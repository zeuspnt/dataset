{
 "cells": [
  {
   "cell_type": "code",
   "execution_count": 1,
   "metadata": {},
   "outputs": [],
   "source": [
    "import cv2\n",
    "import numpy as np\n",
    "from matplotlib import pyplot as plt\n",
    "import os\n",
    "from tqdm import tqdm"
   ]
  },
  {
   "cell_type": "code",
   "execution_count": 2,
   "metadata": {},
   "outputs": [
    {
     "name": "stderr",
     "output_type": "stream",
     "text": [
      "  0%|          | 8/32407 [00:00<07:14, 74.54it/s]"
     ]
    },
    {
     "name": "stdout",
     "output_type": "stream",
     "text": [
      "('000000000139', '.jpg')\n"
     ]
    },
    {
     "name": "stderr",
     "output_type": "stream",
     "text": [
      "100%|██████████| 32407/32407 [34:47<00:00, 15.53it/s]\n"
     ]
    }
   ],
   "source": [
    "IMAGES_PATH = 'dataset/train/images'\n",
    "AUG_NAME = 'gaussian_blur'\n",
    "images = os.listdir(IMAGES_PATH)\n",
    "n = images[0]\n",
    "print(os.path.splitext(n))\n",
    "for image_name in tqdm(images):\n",
    "    name_split = os.path.splitext(image_name)\n",
    "    new_image_name = \"{}_{}.jpg\".format(name_split[0], AUG_NAME)\n",
    "    img = cv2.imread(os.path.join(IMAGES_PATH, image_name))\n",
    "    blur = cv2.GaussianBlur(img,(5,5),0)\n",
    "    cv2.imwrite(os.path.join(IMAGES_PATH, new_image_name), blur)"
   ]
  },
  {
   "cell_type": "code",
   "execution_count": 3,
   "metadata": {},
   "outputs": [
    {
     "name": "stderr",
     "output_type": "stream",
     "text": [
      "100%|██████████| 32359/32359 [06:19<00:00, 85.25it/s] \n"
     ]
    }
   ],
   "source": [
    "from shutil import copyfile\n",
    "XML_PATH = \"dataset/train/xml\"\n",
    "xmls = os.listdir(XML_PATH)\n",
    "for xml in tqdm(xmls):\n",
    "    name_split = os.path.splitext(image_name)\n",
    "    new_xml_name = \"{}_{}.xml\".format(name_split[0], AUG_NAME)\n",
    "    copyfile(os.path.join(XML_PATH, xml), os.path.join(XML_PATH, new_xml_name))"
   ]
  },
  {
   "cell_type": "code",
   "execution_count": null,
   "metadata": {},
   "outputs": [],
   "source": []
  }
 ],
 "metadata": {
  "kernelspec": {
   "display_name": "Python 3",
   "language": "python",
   "name": "python3"
  },
  "language_info": {
   "codemirror_mode": {
    "name": "ipython",
    "version": 3
   },
   "file_extension": ".py",
   "mimetype": "text/x-python",
   "name": "python",
   "nbconvert_exporter": "python",
   "pygments_lexer": "ipython3",
   "version": "3.6.8"
  }
 },
 "nbformat": 4,
 "nbformat_minor": 2
}
