{
 "cells": [
  {
   "cell_type": "code",
   "execution_count": 32,
   "metadata": {},
   "outputs": [],
   "source": [
    "import cv2\n",
    "import xml.etree.ElementTree as ET\n",
    "import os\n",
    "from pascal_voc_io import PascalVocWriter\n",
    "from tqdm import tqdm"
   ]
  },
  {
   "cell_type": "code",
   "execution_count": 33,
   "metadata": {},
   "outputs": [],
   "source": [
    "DIR_BASE = 'Priv_personpart'\n",
    "DESTINATE_ANNOTATION_DIR = 'xml'\n",
    "SOURCE_ANNOTATION_DIR = 'xml_removed'\n",
    "MERGED_ANNOTATION_DIR = 'xml_merged'\n",
    "IMAGE_DIR = 'images'"
   ]
  },
  {
   "cell_type": "code",
   "execution_count": 34,
   "metadata": {},
   "outputs": [],
   "source": [
    "if not os.path.exists(os.path.join(DIR_BASE, MERGED_ANNOTATION_DIR)):\n",
    "    os.mkdir(os.path.join(DIR_BASE, MERGED_ANNOTATION_DIR))\n",
    "\n",
    "des_annotations = os.listdir(os.path.join(DIR_BASE, DESTINATE_ANNOTATION_DIR))\n",
    "src_annotations = os.listdir(os.path.join(DIR_BASE, SOURCE_ANNOTATION_DIR))\n",
    "images = os.listdir(os.path.join(DIR_BASE, IMAGE_DIR))\n",
    "\n",
    "des_annotations.sort()\n",
    "src_annotations.sort()\n",
    "images.sort()"
   ]
  },
  {
   "cell_type": "code",
   "execution_count": 35,
   "metadata": {},
   "outputs": [],
   "source": [
    "def load_xml(xml_path):\n",
    "    tree = ET.parse(xml_path)\n",
    "    root = tree.getroot()\n",
    "    \n",
    "    objects = []\n",
    "    boxes = []\n",
    "    size = None\n",
    "    \n",
    "    for element in root:\n",
    "        if element.tag == 'size':\n",
    "            width = int(element.find('width').text)\n",
    "            height = int(element.find('height').text)\n",
    "            size = (width, height)\n",
    "        if element.tag == 'object':\n",
    "            n_ele = element.find('name').text\n",
    "            if n_ele == None: \n",
    "                continue\n",
    "            \n",
    "            bndbox = element.find('bndbox')\n",
    "            xmin = convert_string_to_int(bndbox.find('xmin').text)\n",
    "            ymin = convert_string_to_int(bndbox.find('ymin').text)\n",
    "            xmax = convert_string_to_int(bndbox.find('xmax').text)\n",
    "            ymax = convert_string_to_int(bndbox.find('ymax').text)\n",
    "            \n",
    "            objects.append(n_ele)\n",
    "            boxes.append((xmin, ymin, xmax, ymax))\n",
    "        \n",
    "    return size, objects, boxes\n",
    "\n",
    "def create_shapes(boxes, labels):\n",
    "    assert len(boxes) == len(labels), \"Length of boxes and labels must equal.\"\n",
    "    shapes = []\n",
    "    for i in range(len(boxes)):\n",
    "        label = labels[i]\n",
    "        box = boxes[i]\n",
    "        shapes.append((box, label))\n",
    "    return shapes\n",
    "\n",
    "def save_pascal_voc_format(filename, shapes, image_path, image_w, image_h):\n",
    "#     img_folder_path = os.path.dirname(image_path)\n",
    "#     img_folder_name = os.path.split(img_folder_path)[-1]\n",
    "#     img_file_name = os.path.basename(image_path)\n",
    "    #imgFileNameWithoutExt = os.path.splitext(imgFileName)[0]\n",
    "    # Read from file path because self.imageData might be empty if saving to\n",
    "    # Pascal format\n",
    "    image_shape = [image_h, image_w]\n",
    "    writer = PascalVocWriter(\"\", \"\",\n",
    "                             image_shape, localImgPath=\"\")\n",
    "\n",
    "    for shape in shapes:\n",
    "#         print(shape)\n",
    "        difficult = 0\n",
    "        bndbox, label = shape\n",
    "        xmin = bndbox[0]\n",
    "        ymin = bndbox[1]\n",
    "        xmax = bndbox[2]\n",
    "        ymax = bndbox[3]\n",
    "        writer.addBndBox(xmin, ymin, xmax, ymax, label, difficult)\n",
    "#     print('file name: ', filename)\n",
    "#     print('image shape: ', image_shape)\n",
    "    writer.save(targetFile=filename)\n",
    "    \n",
    "def convert_string_to_int(s):\n",
    "    if '.' in s:\n",
    "        return int(float(s))\n",
    "    else:\n",
    "        return int(s)"
   ]
  },
  {
   "cell_type": "code",
   "execution_count": 36,
   "metadata": {},
   "outputs": [
    {
     "name": "stderr",
     "output_type": "stream",
     "text": [
      "100%|██████████| 14962/14962 [08:04<00:00, 30.87it/s]\n"
     ]
    }
   ],
   "source": [
    "for name in tqdm(des_annotations):\n",
    "    if name not in src_annotations:\n",
    "        des_anno = os.path.join(DIR_BASE, DESTINATE_ANNOTATION_DIR, name)\n",
    "        size, p_obj, p_boxes = load_xml(des_anno)\n",
    "#         print('size: ', size)\n",
    "        shapes = []\n",
    "        if len(p_boxes) > 0:\n",
    "            shapes += create_shapes(p_boxes, p_obj)\n",
    "    else:\n",
    "        src_anno = os.path.join(DIR_BASE, SOURCE_ANNOTATION_DIR, name)\n",
    "        des_anno = os.path.join(DIR_BASE, DESTINATE_ANNOTATION_DIR, name)\n",
    "    \n",
    "        size, p_obj, p_boxes = load_xml(des_anno)\n",
    "        _, f_obj, f_boxes = load_xml(src_anno)\n",
    "#         print('size: ', size)\n",
    "        shapes = []\n",
    "        if len(p_boxes) > 0:\n",
    "            shapes += create_shapes(p_boxes, p_obj)\n",
    "        if len(f_boxes) > 0:\n",
    "            shapes += create_shapes(f_boxes, f_obj)\n",
    "            \n",
    "#     print(shapes)\n",
    "    if size is None:\n",
    "        image_path = os.path.join(DIR_BASE, IMAGE_DIR, name).replace('.xml', '.jpg')\n",
    "        size = cv2.imread(image_path).shape[:2][::-1]\n",
    "#         print('size: ', size)\n",
    "    save_pascal_voc_format(os.path.join(DIR_BASE, MERGED_ANNOTATION_DIR, name), shapes, \"\", size[0], size[1])"
   ]
  },
  {
   "cell_type": "code",
   "execution_count": null,
   "metadata": {},
   "outputs": [],
   "source": []
  }
 ],
 "metadata": {
  "kernelspec": {
   "display_name": "Python 3",
   "language": "python",
   "name": "python3"
  },
  "language_info": {
   "codemirror_mode": {
    "name": "ipython",
    "version": 3
   },
   "file_extension": ".py",
   "mimetype": "text/x-python",
   "name": "python",
   "nbconvert_exporter": "python",
   "pygments_lexer": "ipython3",
   "version": "3.6.8"
  }
 },
 "nbformat": 4,
 "nbformat_minor": 2
}
