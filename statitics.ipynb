{
 "cells": [
  {
   "cell_type": "markdown",
   "metadata": {},
   "source": [
    "### Statics label on new annotations"
   ]
  },
  {
   "cell_type": "code",
   "execution_count": 1,
   "metadata": {},
   "outputs": [],
   "source": [
    "import xml.etree.ElementTree as ET\n",
    "import os\n",
    "import pprint\n",
    "import tqdm"
   ]
  },
  {
   "cell_type": "code",
   "execution_count": 2,
   "metadata": {},
   "outputs": [],
   "source": [
    "ANNOTATION_DIR = 'dataset/test/xml'"
   ]
  },
  {
   "cell_type": "code",
   "execution_count": 3,
   "metadata": {},
   "outputs": [
    {
     "name": "stderr",
     "output_type": "stream",
     "text": [
      "  0%|          | 3/7306 [00:00<04:36, 26.39it/s]"
     ]
    },
    {
     "name": "stdout",
     "output_type": "stream",
     "text": [
      "7306 XML files\n"
     ]
    },
    {
     "name": "stderr",
     "output_type": "stream",
     "text": [
      "100%|██████████| 7306/7306 [01:57<00:00, 62.23it/s]\n"
     ]
    }
   ],
   "source": [
    "dict = {}\n",
    "file_count = {}\n",
    "\n",
    "xmls = os.listdir(ANNOTATION_DIR)\n",
    "print('{0} XML files'.format(len(xmls)))\n",
    "for xml in tqdm.tqdm(xmls):\n",
    "    if not xml.endswith('.xml'):\n",
    "        continue\n",
    "    xml_path = os.path.join(ANNOTATION_DIR, xml)\n",
    "    tree = ET.parse(xml_path)\n",
    "    root = tree.getroot()\n",
    "    \n",
    "    have_face = False\n",
    "    have_person = False\n",
    "    \n",
    "    sub_dict = {}\n",
    "    for element in root:\n",
    "        if element.tag == 'object':\n",
    "            n_ele = element.find('name')\n",
    "            obj_name = n_ele.text\n",
    "#             if obj_name == 'sofa':\n",
    "#                 print(xml_path)\n",
    "            if n_ele == None:\n",
    "                print(xml)\n",
    "                continue\n",
    "            \n",
    "            if obj_name in dict:\n",
    "                dict[obj_name] += 1\n",
    "            else:\n",
    "                dict[obj_name] = 1"
   ]
  },
  {
   "cell_type": "code",
   "execution_count": 4,
   "metadata": {},
   "outputs": [
    {
     "name": "stdout",
     "output_type": "stream",
     "text": [
      "73\n",
      "{'aeroplane': 1,\n",
      " 'apple': 8,\n",
      " 'backpack': 166,\n",
      " 'banana': 1,\n",
      " 'baseball bat': 5,\n",
      " 'baseball glove': 17,\n",
      " 'bear': 1,\n",
      " 'bed': 19,\n",
      " 'bench': 117,\n",
      " 'bicycle': 52,\n",
      " 'bird': 7,\n",
      " 'boat': 23,\n",
      " 'book': 205,\n",
      " 'bottle': 417,\n",
      " 'bowl': 50,\n",
      " 'broccoli': 2,\n",
      " 'bus': 17,\n",
      " 'cake': 20,\n",
      " 'car': 438,\n",
      " 'carrot': 1,\n",
      " 'cat': 8,\n",
      " 'cell phone': 132,\n",
      " 'chair': 360,\n",
      " 'clock': 15,\n",
      " 'cow': 1,\n",
      " 'cup': 104,\n",
      " 'diningtable': 61,\n",
      " 'dog': 28,\n",
      " 'donut': 12,\n",
      " 'elephant': 1,\n",
      " 'face': 7649,\n",
      " 'fire hydrant': 1,\n",
      " 'fork': 5,\n",
      " 'frisbee': 11,\n",
      " 'handbag': 640,\n",
      " 'horse': 11,\n",
      " 'hot dog': 13,\n",
      " 'keyboard': 11,\n",
      " 'knife': 10,\n",
      " 'laptop': 320,\n",
      " 'microwave': 1,\n",
      " 'motorbike': 20,\n",
      " 'mouse': 3,\n",
      " 'orange': 5,\n",
      " 'oven': 2,\n",
      " 'person': 15222,\n",
      " 'pizza': 6,\n",
      " 'pottedplant': 65,\n",
      " 'refrigerator': 76,\n",
      " 'remote': 9,\n",
      " 'sandwich': 6,\n",
      " 'scissors': 1,\n",
      " 'sink': 5,\n",
      " 'skateboard': 5,\n",
      " 'skis': 3,\n",
      " 'snowboard': 1,\n",
      " 'sofa': 21,\n",
      " 'spoon': 10,\n",
      " 'sports ball': 250,\n",
      " 'stop sign': 1,\n",
      " 'suitcase': 62,\n",
      " 'surfboard': 3,\n",
      " 'teddy bear': 11,\n",
      " 'tennis racket': 24,\n",
      " 'tie': 276,\n",
      " 'toothbrush': 51,\n",
      " 'traffic light': 9,\n",
      " 'train': 36,\n",
      " 'truck': 172,\n",
      " 'tvmonitor': 100,\n",
      " 'umbrella': 36,\n",
      " 'vase': 24,\n",
      " 'wine glass': 51}\n"
     ]
    }
   ],
   "source": [
    "print(len(dict))\n",
    "pprint.pprint(dict)"
   ]
  },
  {
   "cell_type": "code",
   "execution_count": null,
   "metadata": {},
   "outputs": [],
   "source": [
    "import matplotlib.pyplot as plt\n",
    "\n",
    "names = dict.keys()\n",
    "\n",
    "num = [dict[key] for key in names]\n",
    "\n",
    "# bars are by default width 0.8, so we'll add 0.1 to the left coordinates\n",
    "# so that each bar is centered\n",
    "xs = [i + 0.1 for i, _ in enumerate(names)]\n",
    "\n",
    "# plot bars with left x-coordinates [xs], heights [num_favorite]\n",
    "plt.figure(figsize=(24,18))\n",
    "plt.bar(xs, num)\n",
    "plt.title(\"Classes contribution\")\n",
    "\n",
    "# label x-axis with color names at bar centers\n",
    "plt.xticks([i + 0.5 for i, _ in enumerate(names)], names)\n",
    "\n",
    "plt.show()"
   ]
  },
  {
   "cell_type": "code",
   "execution_count": null,
   "metadata": {},
   "outputs": [],
   "source": [
    "print(dict['person'])\n",
    "print(dict['face'])"
   ]
  },
  {
   "cell_type": "code",
   "execution_count": null,
   "metadata": {},
   "outputs": [],
   "source": [
    "category_id = {'person':1, 'face': 2}\n",
    "start_index = 2\n",
    "\n",
    "for key in dict.keys():\n",
    "    if key not in category_id:\n",
    "        start_index += 1\n",
    "        category_id[key] = start_index\n",
    "        \n",
    "print(category_id)"
   ]
  },
  {
   "cell_type": "code",
   "execution_count": null,
   "metadata": {},
   "outputs": [],
   "source": [
    "for key in category_id.keys():\n",
    "    print(\"item {{\\n  id: {}\\n  name: \\\"{}\\\"\\n}}\".format(category_id[key], key))"
   ]
  }
 ],
 "metadata": {
  "kernelspec": {
   "display_name": "Python 3",
   "language": "python",
   "name": "python3"
  },
  "language_info": {
   "codemirror_mode": {
    "name": "ipython",
    "version": 3
   },
   "file_extension": ".py",
   "mimetype": "text/x-python",
   "name": "python",
   "nbconvert_exporter": "python",
   "pygments_lexer": "ipython3",
   "version": "3.6.8"
  }
 },
 "nbformat": 4,
 "nbformat_minor": 2
}
