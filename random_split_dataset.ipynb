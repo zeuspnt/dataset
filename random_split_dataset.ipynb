{
 "cells": [
  {
   "cell_type": "code",
   "execution_count": 21,
   "metadata": {},
   "outputs": [],
   "source": [
    "import os\n",
    "import shutil\n",
    "import random\n",
    "import argparse\n",
    "import sys\n",
    "from tqdm import tqdm"
   ]
  },
  {
   "cell_type": "code",
   "execution_count": 38,
   "metadata": {},
   "outputs": [],
   "source": [
    "DIR_BASE = 'Priv_personpart/'\n",
    "ANNOTATION_DIR = 'xml_merged'\n",
    "ANNOTATION_COPIED_DIR = 'xml'\n",
    "IMAGE_DIR = 'images'\n",
    "\n",
    "TRAIN_DIR = 'train'\n",
    "VAL_DIR = 'val'\n",
    "TEST_DIR = 'test'\n",
    "\n",
    "train_num = 0.75 # 75%\n",
    "val_num = 0.05 # 5%\n",
    "test_num = 0.2 # 20%"
   ]
  },
  {
   "cell_type": "markdown",
   "metadata": {},
   "source": [
    "#### create folder if need"
   ]
  },
  {
   "cell_type": "code",
   "execution_count": 39,
   "metadata": {},
   "outputs": [],
   "source": [
    "# train folder\n",
    "if not os.path.exists(os.path.join(DIR_BASE, TRAIN_DIR)):\n",
    "    os.mkdir(os.path.join(DIR_BASE, TRAIN_DIR))\n",
    "# xml folder\n",
    "if not os.path.exists(os.path.join(DIR_BASE, TRAIN_DIR, ANNOTATION_COPIED_DIR)):\n",
    "    os.mkdir(os.path.join(DIR_BASE, TRAIN_DIR, ANNOTATION_COPIED_DIR))\n",
    "# images folder\n",
    "if not os.path.exists(os.path.join(DIR_BASE, TRAIN_DIR, IMAGE_DIR)):\n",
    "    os.mkdir(os.path.join(DIR_BASE, TRAIN_DIR, IMAGE_DIR))\n",
    "\n",
    "# val folder\n",
    "if not os.path.exists(os.path.join(DIR_BASE, VAL_DIR)):\n",
    "    os.mkdir(os.path.join(DIR_BASE, VAL_DIR))\n",
    "# xml folder\n",
    "if not os.path.exists(os.path.join(DIR_BASE, VAL_DIR, ANNOTATION_COPIED_DIR)):\n",
    "    os.mkdir(os.path.join(DIR_BASE, VAL_DIR, ANNOTATION_COPIED_DIR))\n",
    "# images folder\n",
    "if not os.path.exists(os.path.join(DIR_BASE, VAL_DIR, IMAGE_DIR)):\n",
    "    os.mkdir(os.path.join(DIR_BASE, VAL_DIR, IMAGE_DIR))\n",
    "\n",
    "# test folder\n",
    "if not os.path.exists(os.path.join(DIR_BASE, TEST_DIR)):\n",
    "    os.mkdir(os.path.join(DIR_BASE, TEST_DIR))\n",
    "# xml folder\n",
    "if not os.path.exists(os.path.join(DIR_BASE, TEST_DIR, ANNOTATION_COPIED_DIR)):\n",
    "    os.mkdir(os.path.join(DIR_BASE, TEST_DIR, ANNOTATION_COPIED_DIR))\n",
    "# images folder\n",
    "if not os.path.exists(os.path.join(DIR_BASE, TEST_DIR, IMAGE_DIR)):\n",
    "    os.mkdir(os.path.join(DIR_BASE, TEST_DIR, IMAGE_DIR))"
   ]
  },
  {
   "cell_type": "markdown",
   "metadata": {},
   "source": [
    "#### get images file"
   ]
  },
  {
   "cell_type": "code",
   "execution_count": 40,
   "metadata": {},
   "outputs": [
    {
     "name": "stdout",
     "output_type": "stream",
     "text": [
      "images num:  14962\n",
      "annotations num:  14962\n",
      "748 2992 14962\n"
     ]
    }
   ],
   "source": [
    "images = os.listdir(os.path.join(DIR_BASE, IMAGE_DIR))\n",
    "annotations = os.listdir(os.path.join(DIR_BASE, ANNOTATION_DIR))\n",
    "random_files = random.sample(images, len(images))\n",
    "\n",
    "print(\"images num: \", len(images))\n",
    "print(\"annotations num: \", len(annotations))\n",
    "\n",
    "total_file = len(random_files)\n",
    "val_file_num = int(total_file * val_num)\n",
    "test_file_num = int(total_file * test_num)\n",
    "\n",
    "print(val_file_num, test_file_num, total_file)\n",
    "\n",
    "val_files = []\n",
    "test_files = []\n",
    "\n",
    "# split data\n",
    "for _ in range(val_file_num):\n",
    "    val_files.append(random_files.pop())\n",
    "    \n",
    "for _ in range(test_file_num):\n",
    "    test_files.append(random_files.pop())"
   ]
  },
  {
   "cell_type": "markdown",
   "metadata": {},
   "source": [
    "#### copy files"
   ]
  },
  {
   "cell_type": "code",
   "execution_count": 41,
   "metadata": {},
   "outputs": [
    {
     "name": "stderr",
     "output_type": "stream",
     "text": [
      "100%|██████████| 748/748 [00:54<00:00, 18.04it/s]\n",
      "100%|██████████| 2992/2992 [03:22<00:00, 14.79it/s]\n",
      "100%|██████████| 11222/11222 [11:37<00:00, 16.08it/s]\n"
     ]
    }
   ],
   "source": [
    "# copy to val folder\n",
    "for file in tqdm(val_files):\n",
    "    src_image = os.path.join(DIR_BASE, IMAGE_DIR, file)\n",
    "    src_anno = os.path.join(DIR_BASE, ANNOTATION_DIR, file.replace('.jpg', '.xml'))\n",
    "    des_image = os.path.join(DIR_BASE, VAL_DIR, IMAGE_DIR, file)\n",
    "    des_anno = os.path.join(DIR_BASE, VAL_DIR, ANNOTATION_COPIED_DIR, file.replace('.jpg', '.xml'))\n",
    "    shutil.copy(src_image, des_image)\n",
    "    shutil.copy(src_anno, des_anno)\n",
    "    \n",
    "# copy to test folder\n",
    "for file in tqdm(test_files):\n",
    "    src_image = os.path.join(DIR_BASE, IMAGE_DIR, file)\n",
    "    src_anno = os.path.join(DIR_BASE, ANNOTATION_DIR, file.replace('.jpg', '.xml'))\n",
    "    des_image = os.path.join(DIR_BASE, TEST_DIR, IMAGE_DIR, file)\n",
    "    des_anno = os.path.join(DIR_BASE, TEST_DIR, ANNOTATION_COPIED_DIR, file.replace('.jpg', '.xml'))\n",
    "    shutil.copy(src_image, des_image)\n",
    "    shutil.copy(src_anno, des_anno)\n",
    "    \n",
    "# copy to train folder\n",
    "for file in tqdm(random_files):\n",
    "    src_image = os.path.join(DIR_BASE, IMAGE_DIR, file)\n",
    "    src_anno = os.path.join(DIR_BASE, ANNOTATION_DIR, file.replace('.jpg', '.xml'))\n",
    "    des_image = os.path.join(DIR_BASE, TRAIN_DIR, IMAGE_DIR, file)\n",
    "    des_anno = os.path.join(DIR_BASE, TRAIN_DIR, ANNOTATION_COPIED_DIR, file.replace('.jpg', '.xml'))\n",
    "    shutil.copy(src_image, des_image)\n",
    "    shutil.copy(src_anno, des_anno)"
   ]
  },
  {
   "cell_type": "code",
   "execution_count": null,
   "metadata": {},
   "outputs": [],
   "source": []
  }
 ],
 "metadata": {
  "kernelspec": {
   "display_name": "Python 3",
   "language": "python",
   "name": "python3"
  },
  "language_info": {
   "codemirror_mode": {
    "name": "ipython",
    "version": 3
   },
   "file_extension": ".py",
   "mimetype": "text/x-python",
   "name": "python",
   "nbconvert_exporter": "python",
   "pygments_lexer": "ipython3",
   "version": "3.6.8"
  }
 },
 "nbformat": 4,
 "nbformat_minor": 2
}
