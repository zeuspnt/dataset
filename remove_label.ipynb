{
 "cells": [
  {
   "cell_type": "code",
   "execution_count": 1,
   "metadata": {},
   "outputs": [],
   "source": [
    "import xml.etree.ElementTree as ET\n",
    "import os\n",
    "import glob"
   ]
  },
  {
   "cell_type": "code",
   "execution_count": 7,
   "metadata": {},
   "outputs": [],
   "source": [
    "def remove_label_in_annotation_file(xml_path, label):\n",
    "    \"\"\"\n",
    "    Remove objects in annotation file.\n",
    "    \n",
    "    Arguments:\n",
    "        xml_path: path to annotation file.\n",
    "        label: label need to remove.\n",
    "    Returns:\n",
    "        None\n",
    "    \"\"\"\n",
    "    tree = ET.parse(xml_path)\n",
    "    root = tree.getroot()\n",
    "    \n",
    "    rm = []\n",
    "    for element in root:\n",
    "        if element.tag == 'object':\n",
    "            n_ele = element.find('name').text\n",
    "\n",
    "            if n_ele != None and n_ele == label: \n",
    "                rm.append(element)\n",
    "                    \n",
    "    for e in rm:\n",
    "        try:\n",
    "            root.remove(e)\n",
    "        except:\n",
    "            print(ori_xml_path)\n",
    "            print(xml_path)\n",
    "            print(len(rm))\n",
    "            print(e.find('name').text)\n",
    "    \n",
    "    tree.write(xml_path)"
   ]
  },
  {
   "cell_type": "code",
   "execution_count": 8,
   "metadata": {},
   "outputs": [
    {
     "name": "stdout",
     "output_type": "stream",
     "text": [
      "14962\n"
     ]
    }
   ],
   "source": [
    "ANNOTATION_DIR = 'Priv_personpart/Annotations'\n",
    "\n",
    "xmls = glob.glob(os.path.join(ANNOTATION_DIR, '*.xml'))\n",
    "print(len(xmls))\n",
    "for xml in xmls:\n",
    "    remove_label_in_annotation_file(xml, 'hand')"
   ]
  },
  {
   "cell_type": "code",
   "execution_count": null,
   "metadata": {},
   "outputs": [],
   "source": []
  }
 ],
 "metadata": {
  "kernelspec": {
   "display_name": "Python 3",
   "language": "python",
   "name": "python3"
  },
  "language_info": {
   "codemirror_mode": {
    "name": "ipython",
    "version": 3
   },
   "file_extension": ".py",
   "mimetype": "text/x-python",
   "name": "python",
   "nbconvert_exporter": "python",
   "pygments_lexer": "ipython3",
   "version": "3.6.8"
  }
 },
 "nbformat": 4,
 "nbformat_minor": 2
}
