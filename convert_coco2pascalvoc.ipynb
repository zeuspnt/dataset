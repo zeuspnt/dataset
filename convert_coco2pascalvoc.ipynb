{
 "cells": [
  {
   "cell_type": "code",
   "execution_count": 11,
   "metadata": {},
   "outputs": [
    {
     "name": "stdout",
     "output_type": "stream",
     "text": [
      "dict_keys(['info', 'licenses', 'images', 'annotations', 'categories'])\n",
      "{1: 'person', 2: 'bicycle', 3: 'car', 4: 'motorcycle', 5: 'airplane', 6: 'bus', 7: 'train', 8: 'truck', 9: 'boat', 10: 'traffic light', 11: 'fire hydrant', 13: 'stop sign', 14: 'parking meter', 15: 'bench', 16: 'bird', 17: 'cat', 18: 'dog', 19: 'horse', 20: 'sheep', 21: 'cow', 22: 'elephant', 23: 'bear', 24: 'zebra', 25: 'giraffe', 27: 'backpack', 28: 'umbrella', 31: 'handbag', 32: 'tie', 33: 'suitcase', 34: 'frisbee', 35: 'skis', 36: 'snowboard', 37: 'sports ball', 38: 'kite', 39: 'baseball bat', 40: 'baseball glove', 41: 'skateboard', 42: 'surfboard', 43: 'tennis racket', 44: 'bottle', 46: 'wine glass', 47: 'cup', 48: 'fork', 49: 'knife', 50: 'spoon', 51: 'bowl', 52: 'banana', 53: 'apple', 54: 'sandwich', 55: 'orange', 56: 'broccoli', 57: 'carrot', 58: 'hot dog', 59: 'pizza', 60: 'donut', 61: 'cake', 62: 'chair', 63: 'couch', 64: 'potted plant', 65: 'bed', 67: 'dining table', 70: 'toilet', 72: 'tvmonitor', 73: 'laptop', 74: 'mouse', 75: 'remote', 76: 'keyboard', 77: 'cell phone', 78: 'microwave', 79: 'oven', 80: 'toaster', 81: 'sink', 82: 'refrigerator', 84: 'book', 85: 'clock', 86: 'vase', 87: 'scissors', 88: 'teddy bear', 89: 'hair drier', 90: 'toothbrush'}\n",
      "5000\n"
     ]
    }
   ],
   "source": [
    "import json\n",
    "\n",
    "annotations_path = 'cocoval2017/annotations/instances_val2017.json'\n",
    "\n",
    "with open(annotations_path, 'r') as f:\n",
    "    content = json.load(f)\n",
    "    categories = {d['id']: d['name'] for d in content['categories']}\n",
    "    print(content.keys())\n",
    "    categories[72] = 'tvmonitor'\n",
    "    print(categories)\n",
    "    images = {d['id']: {'file_name':d['file_name'], 'width': d['width'], 'height': d['height']} for d in content['images']}\n",
    "    print(len(images))\n",
    "    annotations = {}\n",
    "    for annotation in content['annotations']:\n",
    "        image_id = annotation['image_id']\n",
    "        bb = [int(i) for i in annotation['bbox']]\n",
    "        bbox = [bb[0], bb[1], bb[0] + bb[2], bb[1] + bb[3]]\n",
    "        label = categories[annotation['category_id']]\n",
    "        if image_id in annotations:\n",
    "            annotations[image_id].append((bbox, label))\n",
    "        else:\n",
    "            annotations[image_id] = [(bbox, label)]"
   ]
  },
  {
   "cell_type": "code",
   "execution_count": 12,
   "metadata": {},
   "outputs": [],
   "source": [
    "def save_pascal_voc_format(filename, shapes, image_path, image_w, image_h):\n",
    "#     img_folder_path = os.path.dirname(image_path)\n",
    "#     img_folder_name = os.path.split(img_folder_path)[-1]\n",
    "#     img_file_name = os.path.basename(image_path)\n",
    "    #imgFileNameWithoutExt = os.path.splitext(imgFileName)[0]\n",
    "    # Read from file path because self.imageData might be empty if saving to\n",
    "    # Pascal format\n",
    "    image_shape = [image_h, image_w]\n",
    "    writer = PascalVocWriter(\"\", \"\",\n",
    "                             image_shape, localImgPath=\"\")\n",
    "\n",
    "    for shape in shapes:\n",
    "#         print(shape)\n",
    "        difficult = 0\n",
    "        bndbox, label = shape\n",
    "        xmin = bndbox[0]\n",
    "        ymin = bndbox[1]\n",
    "        xmax = bndbox[2]\n",
    "        ymax = bndbox[3]\n",
    "        writer.addBndBox(xmin, ymin, xmax, ymax, label, difficult)\n",
    "#     print('file name: ', filename)\n",
    "#     print('image shape: ', image_shape)\n",
    "    writer.save(targetFile=filename)"
   ]
  },
  {
   "cell_type": "code",
   "execution_count": 13,
   "metadata": {},
   "outputs": [],
   "source": [
    "from pascal_voc_io import PascalVocWriter\n",
    "import os\n",
    "\n",
    "for image_id in images.keys():\n",
    "    if image_id in annotations:\n",
    "        image = images[image_id]\n",
    "        filename = image['file_name']\n",
    "        width = image['width']\n",
    "        height = image['height']\n",
    "\n",
    "        shapes = annotations[image_id]\n",
    "\n",
    "        save_pascal_voc_format(os.path.join('cocoval2017/xml', filename.replace('.jpg', '.xml')), shapes, \"\", width, height)"
   ]
  },
  {
   "cell_type": "code",
   "execution_count": null,
   "metadata": {},
   "outputs": [],
   "source": []
  }
 ],
 "metadata": {
  "kernelspec": {
   "display_name": "Python 3",
   "language": "python",
   "name": "python3"
  },
  "language_info": {
   "codemirror_mode": {
    "name": "ipython",
    "version": 3
   },
   "file_extension": ".py",
   "mimetype": "text/x-python",
   "name": "python",
   "nbconvert_exporter": "python",
   "pygments_lexer": "ipython3",
   "version": "3.6.8"
  }
 },
 "nbformat": 4,
 "nbformat_minor": 2
}
